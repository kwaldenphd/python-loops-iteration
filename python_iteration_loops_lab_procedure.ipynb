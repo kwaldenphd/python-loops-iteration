{
  "nbformat": 4,
  "nbformat_minor": 0,
  "metadata": {
    "colab": {
      "provenance": [],
      "toc_visible": true,
      "authorship_tag": "ABX9TyP+NDrg28JW/+bwHvZP3ds5",
      "include_colab_link": true
    },
    "kernelspec": {
      "name": "python3",
      "display_name": "Python 3"
    },
    "language_info": {
      "name": "python"
    }
  },
  "cells": [
    {
      "cell_type": "markdown",
      "metadata": {
        "id": "view-in-github",
        "colab_type": "text"
      },
      "source": [
        "<a href=\"https://colab.research.google.com/github/kwaldenphd/python-loops-iteration/blob/main/python_iteration_loops_lab_procedure.ipynb\" target=\"_parent\"><img src=\"https://colab.research.google.com/assets/colab-badge.svg\" alt=\"Open In Colab\"/></a>"
      ]
    },
    {
      "cell_type": "markdown",
      "source": [
        "# Iteration & Loops in Python\n",
        "\n",
        "<a href=\"http://creativecommons.org/licenses/by-nc/4.0/\" rel=\"license\"><img style=\"border-width: 0;\" src=\"https://i.creativecommons.org/l/by-nc/4.0/88x31.png\" alt=\"Creative Commons License\" /></a>This tutorial was written by Katherine Walden and is licensed under a <a href=\"http://creativecommons.org/licenses/by-nc/4.0/\" rel=\"license\">Creative Commons Attribution-NonCommercial 4.0 International License</a>.\n"
      ],
      "metadata": {
        "id": "-5f16y8kD5jG"
      }
    },
    {
      "cell_type": "markdown",
      "source": [
        "## Lab Overview & Goals\n",
        "\n",
        "This lab provides an overview of foundational programming concepts in the areas of control flow and functions, with a focus on Python syntax. Topics covered include:\n",
        "- Control flow and control structures\n",
        "- Event-controlled and count-controlled loops\n",
        "- Looping structures in Python (`for` and `while`)"
      ],
      "metadata": {
        "id": "p59Jv_CsD6qO"
      }
    },
    {
      "cell_type": "markdown",
      "source": [
        "## Acknowledgements\n",
        "\n",
        "When building this lab, the author consulted materials developed by:\n",
        "- [Dr. Peter Bui](http://www3.nd.edu/~pbui/) for the [CSE 10101 \"Elements of Computing I\" course](https://www3.nd.edu/~pbui/teaching/cdt.30010.fa16/).\n",
        "  * [Conditional and Alternative Execution](http://nbviewer.jupyter.org/urls/gitlab.com/snippets/25773/raw)\n",
        "  * [Loops](http://nbviewer.jupyter.org/urls/gitlab.com/snippets/26115/raw)\n",
        "- [Dr. Janet Davis](https://cs.whitman.edu/~davisj/) for the the [CSC 105 \"The Digital Age\" course](https://www.cs.grinnell.edu/~davisjan/csc/105/2012S/). \n",
        "  * [Laboratory: Programming in Python (Decisions and Repetition)](http://www.cs.grinnell.edu/~davisjan/csc/105/labs/python3.html)\n",
        "- [Dr. Corey Pennycuff](https://www3.nd.edu/~cpennycu/) for the [CSE 10101 Elements of Computing (Fall 2019)](https://www3.nd.edu/~cpennycu/2019/fa-CSE10101-CDT30010.html).\n",
        "  * [Control flow structures](https://www3.nd.edu/~cpennycu/2019/assets/fall/EOC/19.09.03.ipynb)\n",
        "  * [Looping structures](https://www3.nd.edu/~cpennycu/2019/fa-CSE10101-CDT30010.html)\n",
        "- [Dr. Lindsay K. Mattock](http://lindsaymattock.net/) for the the [SLIS 5020 Computing Foundations course](http://lindsaymattock.net/computingfoundations.html). \n",
        "\n",
        "Definitions and explanations in this lab are adapted from Kenneth Leroy Busbee and Dave Braunschweig, *[Programming Fundamentals: A Modular Structured Approach, 2nd Edition](https://press.rebus.community/programmingfundamentals/)* (Rebus Press, 2018)\n",
        "- [Chapter V, Loops](https://press.rebus.community/programmingfundamentals/part/loops/)"
      ],
      "metadata": {
        "id": "em8a_ouLD7uC"
      }
    },
    {
      "cell_type": "markdown",
      "source": [
        "# Key Concepts\n",
        "\n",
        "[Click here](https://github.com/kwaldenphd/python-loops-iteration/blob/main/key-concepts.md) for a full list of key concepts and definitions from this lab."
      ],
      "metadata": {
        "id": "vh9OUUkRD9Ok"
      }
    },
    {
      "cell_type": "markdown",
      "source": [
        "# Lab Notebook Template\n",
        "\n",
        "[Jupyter Notebook, `.ipynb`](https://colab.research.google.com/drive/1duVhsQ-jf6MZpMi0hyc8o4nSG61TJpI0?usp=sharing) (Google Colab, ND users)"
      ],
      "metadata": {
        "id": "dfgGKuuoD-c6"
      }
    },
    {
      "cell_type": "markdown",
      "source": [
        "# Overview\n",
        "\n",
        "By this point, we've spent multiple labs thinking through control structures and control flow, with a focus on how we use them in Python.\n",
        "\n",
        "From Busbee and Braunschweig's \"[Structured Programming](https://press.rebus.community/programmingfundamentals/chapter/structured-programming/),\" in *Programming Fundamentals*:\n",
        "    \n",
        "\"One of the most important concepts of programming is the ability to control a program so that different lines of code are executed or that some lines of code are executed many times. The mechanisms that allow us to control the flow of execution are called control structures. Flowcharting is a method of documenting (charting) the flow (or paths) that a program would execute. There are three main categories of control structures:\"\n",
        "  * Sequence [executes in given sequence]\n",
        "  * Selection [selects between two or more flows using condition or question]\n",
        "  * Iteration [repeats same piece of code multiple times]\n",
        "\n",
        "Examples of control structures in Python include:\n",
        "- `if-then-else` (syntax: `if`, `else`, `elif`)\n",
        "- `while` statements (syntax: `while`)\n",
        "- functions (built-in and named)\n",
        "\n",
        "We've also previously been introduced to the concept of **code blocks**. From Busbee and Braunschweig's \"[Code Blocks](https://press.rebus.community/programmingfundamentals/chapter/code-blocks/)\" from *Programming Fundamentals*:\n",
        "- \"A code block, sometimes referred to as a compound statement, is a lexical structure of source code which is grouped together. Blocks consist of one or more declarations and statements. A programming language that permits the creation of blocks, including blocks nested within other blocks, is called a block-structured programming language. Blocks are fundamental to structured programming, where control structures are formed from blocks.\""
      ],
      "metadata": {
        "id": "YGpQBQ-HEELT"
      }
    },
    {
      "cell_type": "markdown",
      "source": [
        "## Iteration Control Structures\n",
        "\n",
        "<p align=\"center\"><img src=\"https://github.com/kwaldenphd/python-loops-iteration/blob/main/images/for-loop-meme.png?raw=true\" width=\"500\"></p>\n",
        "\n",
        "From Busbee and Braunschweig's \"[Iteration Control Structures](https://press.rebus.community/programmingfundamentals/chapter/iteration-control-structures/),\" in *Programming Fundamentals*:\n",
        "\n",
        "\"In iteration control structures, a statement or block is executed until the program reaches a certain state, or operations have been applied to every element of a collection. This is usually expressed with keywords such as `while`, `repeat`, `for`, or `do..until`. The basic attribute of an iteration control structure is to be able to repeat some lines of code. The visual display of iteration creates a circular loop pattern when flowcharted, thus the word 'loop' is associated with iteration control structures.\"\n",
        "\n",
        "Let's break down that definition:\n",
        "- Iteration (repetition of a process) is a type of control structure\n",
        "- In programming languages, iteration involves lines of code repeating until a condition is met of the end of a group of values has been reached.\n",
        "- Because iteration in this context involves a circular pattern, many object-oriented programming languages refer to these structures as `loops`\n"
      ],
      "metadata": {
        "id": "0o9zCjnMEFV-"
      }
    },
    {
      "cell_type": "markdown",
      "source": [
        "### Iteration in Pyton\n",
        "\n",
        "We've actually already seen iteration in action in previous Python labs."
      ],
      "metadata": {
        "id": "GIDZ0d5EEGko"
      }
    },
    {
      "cell_type": "code",
      "source": [
        "# create string variable\n",
        "message = \"Hello world!\"\n",
        "\n",
        "# return number of characters in string\n",
        "len(message)\n",
        "\n",
        "# test if character x is in string\n",
        "'x' in message # returns false\n",
        "\n",
        "# test if symbol % is NOT in string\n",
        "'%' not in message # returns true"
      ],
      "metadata": {
        "id": "Thlyy-KwFmdR"
      },
      "execution_count": null,
      "outputs": []
    },
    {
      "cell_type": "markdown",
      "source": [
        "These membership tests (using `in` and `not in`) involve iteration- the program goes left-to-right, starting at the first character in the string. You may remember we used `.index()` in the data storage lab to search for characters that appear multiple times in a string- Python only returned the first occurrence of the character because of how iteration impacted the `.index()` method.\n",
        "\n",
        "Another example of iteration in action, this time using a `list`:"
      ],
      "metadata": {
        "id": "pLNgnR2PFn4m"
      }
    },
    {
      "cell_type": "code",
      "source": [
        "# list of string objects\n",
        "fruits = [\"apple\", \"banana\", \"blueberry\", \"cherry\", \"pear\"]\n",
        "\n",
        "# return index for cherry\n",
        "print(\"The index for cherry is \", fruits.index(\"cherry\"))\n",
        "\n",
        "# return index for pear\n",
        "print(\"The index for pear is \", fruits.index(\"pear\"))\n",
        "\n",
        "# test if apple is in list\n",
        "print(\"apple\" in fruits)\n",
        "\n",
        "# test if blueberry is NOT in list\n",
        "print(\"blueberry\" not in fruits)"
      ],
      "metadata": {
        "id": "Z-Ptsps8Fo7R"
      },
      "execution_count": null,
      "outputs": []
    },
    {
      "cell_type": "markdown",
      "source": [
        "Iteration works similarly in a list- the program goes left-to-right, starting with the first element in the list. \n",
        "\n",
        "For more on the technical foundations of iteration in Python:\n",
        "- W3Schools, \"[Python Iterators](https://www.w3schools.com/python/python_iterators.asp)\"\n",
        "\n",
        "## Loops\n",
        "\n",
        "Testing for membership or returning index values are a couple examples of tasks we can accomplish in Python using iteration.\n",
        "\n",
        "But let's review the definition of iteration as a control structure. From Busbee and Braunschweig's \"[Iteration Control Structures](https://press.rebus.community/programmingfundamentals/chapter/iteration-control-structures/),\" in *Programming Fundamentals*:\n",
        "\n",
        "\"In iteration control structures, a statement or block is executed until the program reaches a certain state, or operations have been applied to every element of a collection. This is usually expressed with keywords such as `while`, `repeat`, `for`, or `do..until`. The basic attribute of an iteration control structure is to be able to repeat some lines of code. The visual display of iteration creates a circular loop pattern when flowcharted, thus the word 'loop' is associated with iteration control structures.\"\n",
        "\n",
        "Breaking down that definition:\n",
        "- Iteration (repetition of a process) is a type of control structure\n",
        "- In programming languages, iteration involves lines of code repeating until a condition is met of the end of a group of values has been reached.\n",
        "- Because iteration in this context involves a circular pattern, many object-oriented programming languages refer to these structures as `loops`\n",
        "\n",
        "The power of iteration as a control structure comes from a programming concept called `loops`.\n",
        "\n",
        "<p align=\"center\"><img src=\"https://github.com/kwaldenphd/python-loops-iteration/blob/main/images/loop-comparison-diagram.png?raw=true\" width=\"1000\"></p>\n",
        "\n",
        "Most high-level programming languages support two main types of loops: event-controlled and count-controlled\n",
        "- **Event-controlled loops** test for an initial condition, and execution continues as long as the initial condition is `True`. How many times the loop will execute *is not known*.\n",
        "- **Count-controlled loops** (sometimes called counter-controlled loops) continue executing for a pre-determined number of times. The number of times the loop will execute is known because the loop is iterating through a collection of objects/values (i.e. a string or list), or the iteration when the initial condition will no longer be `True` is known.\n",
        "\n",
        "Let's break down each type."
      ],
      "metadata": {
        "id": "o62iW22fFvC_"
      }
    },
    {
      "cell_type": "markdown",
      "source": [
        "### Event-Controlled Loops\n",
        "\n",
        "<p align=\"center\"><img src=\"https://github.com/kwaldenphd/python-loops-iteration/blob/main/images/while-loop-diagram.png?raw=true\" width=\"500\"></p>\n",
        "\n",
        "In Python, event-controlled loops are written using a `while` statement and are called `while loop`. A `while` statement tests for an initial condition, and the lines of code indented under `while` run only when the initial condition is `True`.\n",
        "\n",
        "In each iteration through the `while` loop, Python will:\n",
        "- Evaluate the initial condition (which is a Boolean true/false expression)\n",
        "- If the condition is `False`, exit the loop and continue the program\n",
        "- If the condition is `True`, then execute other statements in the body of the loop and return to the beginning of the loop\n",
        "\n",
        "The basic syntax for a `while` loop:\n",
        "\n",
        "```Python\n",
        "# while loop sample syntax\n",
        "while condition:\n",
        "\tstatement(s)\n",
        "```\n",
        "\n",
        "To express this logic another way:\n",
        "\n",
        "```Python\n",
        "# while loop sample syntax\n",
        "while THIS CONDITION IS TRUE:\n",
        "\tDO THIS THING\n",
        "```\n",
        "\n",
        "For example, in a previous lab, you were asked to write a guessing game program that used a `while` statement. What this program might have looked like:"
      ],
      "metadata": {
        "id": "h4frUD4WF4Wu"
      }
    },
    {
      "cell_type": "code",
      "source": [
        "# correct answer\n",
        "secret = 7\n",
        "\n",
        "# guess\n",
        "guess = int(input(\"Guess a number: \"))\n",
        "\n",
        "# while statement\n",
        "while guess != secret:\n",
        "  if guess > secret:\n",
        "    print(\"Your guess is too high. Better luck next time\")\n",
        "    guess = int(input(\"Guess again. Enter another number: \"))\n",
        "  else:\n",
        "    print(\"Your guess is too low. Better luck next time.\")\n",
        "    guess = int(input(\"Guess again. Enter another number: \"))\n",
        "  \n",
        "\n",
        "print(\"Congrats, you guessed the secret number!\")"
      ],
      "metadata": {
        "id": "bgzFQ4eKF6UW"
      },
      "execution_count": null,
      "outputs": []
    },
    {
      "cell_type": "markdown",
      "source": [
        "This is an example of a `while` loop. Because the number of times the loop will execute is not known, this is an example of an event-controlled loop. That is, the loop will continue executing (looping) until the initial condition (`guess != secret`) is no longer true.\n",
        "\n",
        "#### `While` Loop Comprehension Check\n",
        "\n",
        "<table>\n",
        " <tr><td>\n",
        "<img src=\"https://github.com/kwaldenphd/internet/blob/main/images/clipboard.png?raw=true\" alt=\"Clipboard icon\" width=\"50\"/></td>\n",
        "  <td><a href=\"https://docs.google.com/forms/d/e/1FAIpQLSfhrN-wLhsGhxnbEDjBNVkF35Z8p31OIJSDdBfgOtI_KzAlAg/viewform?usp=sf_link\">Python While Loops Comprehension Check</a></td>\n",
        "  </tr>\n",
        "  </table>\n",
        "  "
      ],
      "metadata": {
        "id": "MTbbyugOF79b"
      }
    },
    {
      "cell_type": "markdown",
      "source": [
        "#### `While` Loop Application\n",
        "\n",
        "Q1: Given the following program:\n"
      ],
      "metadata": {
        "id": "OPI0N4b9F9MT"
      }
    },
    {
      "cell_type": "code",
      "source": [
        "# assign count variable\n",
        "count = 1\n",
        "\n",
        "# while loop\n",
        "while count <= 5: # initial condition\n",
        "   print (\"Python\") # print statement\n",
        "   count = count + 1 # reassign count\n",
        "\n",
        "# final print statement\n",
        "print (\"Done\")"
      ],
      "metadata": {
        "id": "B9ZcSdbAF-G8"
      },
      "execution_count": null,
      "outputs": []
    },
    {
      "cell_type": "markdown",
      "source": [
        "How would you modify the program to print or output the string nine (9) times and also include line numbers as part of the output? Answer to this question includes program + comments that document process and explain your code.\n",
        "\n",
        "For example, your output might look like the following: \n",
        "\n",
        "```\n",
        "1 Python\n",
        "2 Python\n",
        "3 Python\n",
        "4 Python\n",
        "5 Python \n",
        "6 Python\n",
        "7 Python\n",
        "8 Python\n",
        "9 Python\n",
        "IS FUN!\n",
        "```\n",
        "\n",
        "### Count-Controlled Loops in Python\n",
        "\n",
        "<p align=\"center\"><img src=\"https://github.com/kwaldenphd/python-loops-iteration/blob/main/images/for-loop-diagram.png?raw=true\" width=\"500\"></p>\n",
        "\n",
        "In Python, count-controlled loops are written using a `for` statement and are called `for loop`. A `for loop` iterates over each value in a group of values- the lines of code nested under the initial statement run for each iteration.\n",
        "\n",
        "`for` loops let us iterate through a definite set of objects. In each iteration through the `for` loop, Python will:\n",
        "- Extract one element from the dataset\n",
        "- Execute the body of the `for` loop using the item bound to the element\n",
        "- Go back to the first step\n",
        "- Keep iterating through the loop until reaching the end of the dataset\n",
        "\n",
        "The basic syntax in a `for` loop:\n",
        "\n",
        "```Python\n",
        "# sample for loop syntax\n",
        "for item in dataset:\n",
        " statement(s)\n",
        "```\n",
        "\n",
        "In this syntax, `item` is a placeholder for each element in `dataset`. We can replace `item` with another word or letter character.\n",
        "\n",
        "```Python\n",
        "# sample for loop syntax\n",
        "for i in dataset:\n",
        "\tstatement(s)\n",
        "```\n",
        "\n",
        "In this syntax, `dataset` stands for the group of items we want Python to iterate over. That group of items could be a list, a list variable, string, string variable, etc. \n",
        "\n",
        "We've encountered a few `for` loops in previous labs.\n",
        "\n",
        "Iterating over items in a list:"
      ],
      "metadata": {
        "id": "6sfTHyBFGBXv"
      }
    },
    {
      "cell_type": "code",
      "source": [
        "# list of numbers\n",
        "numbers = [1, 3, 5, 7, 9, 11, 13, 15, 17]\n",
        "\n",
        "# sample for loop that iterates over items in list and outputs each number\n",
        "for number in numbers:\n",
        " print(number)"
      ],
      "metadata": {
        "id": "kWlZDmgPGFem"
      },
      "execution_count": null,
      "outputs": []
    },
    {
      "cell_type": "markdown",
      "source": [
        "Nesting `if-then-else` logic in a `for` loop:"
      ],
      "metadata": {
        "id": "K_fcxT1JGHUP"
      }
    },
    {
      "cell_type": "code",
      "source": [
        "# list of numbers\n",
        "numbers = [1, 3, 5, 7, 9, 11, 13, 15, 17]\n",
        "\n",
        "# for loop that iterates over numbers\n",
        "for number in numbers:\n",
        "  if number < 10:\n",
        "    print(str(number) + \" is less than 10\")\n",
        "  elif number > = 10 and number < 15:\n",
        "    print(str(number) + \" is greater than or equal to 10 and less than 15\")\n",
        "  else:\n",
        "    print(str(number) + \" is greater than 15\")"
      ],
      "metadata": {
        "id": "mri4oLi_GISK"
      },
      "execution_count": null,
      "outputs": []
    },
    {
      "cell_type": "markdown",
      "source": [
        "A previous lab notebook question asked you to print out each sublist (in a nested list or list of lists) on its own line, and also print the individual values on their own lines.\n",
        "\n",
        "An approach to that program that doesn't use iteration or a `for` loop:\n"
      ],
      "metadata": {
        "id": "VRvW4NBaGJyR"
      }
    },
    {
      "cell_type": "code",
      "source": [
        "# create list with sublists\n",
        "numbers = [[0, 1], [2, 3], [4, 5]]\n",
        "\n",
        "# print out each sublist\n",
        "print(numbers[0])\n",
        "print(numbers[1])\n",
        "print(numbers[2])\n",
        "\n",
        "# print out each number\n",
        "print(numbers[0][0])\n",
        "print(numbers[0][1])\n",
        "# etc"
      ],
      "metadata": {
        "id": "kM0XbOd1GLpr"
      },
      "execution_count": null,
      "outputs": []
    },
    {
      "cell_type": "markdown",
      "source": [
        "Rewriting those programs to use `for` loops:"
      ],
      "metadata": {
        "id": "ZM8cJxqOGlb6"
      }
    },
    {
      "cell_type": "code",
      "source": [
        "# print each sublist\n",
        "for number in numbers:\n",
        "  print(number)\n",
        "  \n",
        "# print each value in the sublist\n",
        "for number in numbers:\n",
        "  for n in number:\n",
        "    print(n)"
      ],
      "metadata": {
        "id": "iWj-SWsyGmG9"
      },
      "execution_count": null,
      "outputs": []
    },
    {
      "cell_type": "markdown",
      "source": [
        "Another example with dictionary keys and values:"
      ],
      "metadata": {
        "id": "_n8w6ATXGm-H"
      }
    },
    {
      "cell_type": "code",
      "source": [
        "# create dictionary\n",
        "states = {\"Missouri\": \"MO\", \"Indiana\": \"IN\", \"Iowa\":\"IA\", \"Nebraska\":\"NE\", \"Kansas\":\"KS\", \"Illinois\":\"IL\", \"Ohio\":\"OH\", \"Michigan\":\"MI\"}\n",
        "\n",
        "# show keys\n",
        "print(states.keys)\n",
        "\n",
        "# alternate approach that uses for loop\n",
        "for key in states.keys():\n",
        "  print(key)\n",
        "\n",
        "# show values\n",
        "print(states.values)\n",
        "\n",
        "# alternate approach that uses for loop\n",
        "for value in states.values():\n",
        "  print(value)"
      ],
      "metadata": {
        "id": "IE8kRfUIGoSx"
      },
      "execution_count": null,
      "outputs": []
    },
    {
      "cell_type": "markdown",
      "source": [
        "#### `For` Loop Comprehension Check\n",
        "\n",
        "<table>\n",
        " <tr><td>\n",
        "<img src=\"https://github.com/kwaldenphd/internet/blob/main/images/clipboard.png?raw=true\" alt=\"Clipboard icon\" width=\"50\"/></td>\n",
        "  <td><a href=\"https://docs.google.com/forms/d/e/1FAIpQLSePIOvFVTaQLTUh_xDFByNVUvvqY64sBt2NHpR17hXhF0S8Eg/viewform?usp=sf_link\">Python For Loops Comprehension Check</a></td>\n",
        "  </tr>\n",
        "  </table>"
      ],
      "metadata": {
        "id": "yuEkqtg2GpJu"
      }
    },
    {
      "cell_type": "markdown",
      "source": [
        "#### `For` Loop Application\n",
        "\n",
        "Q2: Let's return to the program we modified for Q1. How would you modify your Q1 answer to use a `for` loop instead of a `while` loop? Answer to this question includes program + comments that document process and explain your code."
      ],
      "metadata": {
        "id": "qhhnakcqGqbT"
      }
    },
    {
      "cell_type": "code",
      "source": [
        "# assign count variable\n",
        "count = 1\n",
        "\n",
        "# while loop\n",
        "while count <= 5: # initial condition\n",
        "   print (\"Python\") # print statement\n",
        "   count = count + 1 # reassign count\n",
        "\n",
        "# final print statement\n",
        "print (\"Done\")"
      ],
      "metadata": {
        "id": "ZVryU82pGrYN"
      },
      "execution_count": null,
      "outputs": []
    },
    {
      "cell_type": "markdown",
      "source": [
        "As a reminder, your output might look like the following: \n",
        "\n",
        "```\n",
        "1 Python\n",
        "2 Python\n",
        "3 Python\n",
        "4 Python\n",
        "5 Python \n",
        "6 Python\n",
        "7 Python\n",
        "8 Python\n",
        "9 Python\n",
        "IS FUN!\n",
        "```\n",
        "\n",
        "Q3: In a previous lab, you were asked to modify the program below to search for the characters `q` and `u` in the string `turquoise`. \n",
        "\n",
        "Program you modified:"
      ],
      "metadata": {
        "id": "ZRv87ayGGssp"
      }
    },
    {
      "cell_type": "code",
      "source": [
        "# assign string variable\n",
        "color = \"turquoise\"\n",
        "\n",
        "# get index number of t character\n",
        "index_number = color.index(\"t\")\n",
        "\n",
        "# show index number as part of print statement\n",
        "print (\"The index number for the letter t within the word \" + color + \" is \" + index_number)"
      ],
      "metadata": {
        "id": "x0yE8dpuGuso"
      },
      "execution_count": null,
      "outputs": []
    },
    {
      "cell_type": "markdown",
      "source": [
        "Write a program that uses a `for` loop to return all instances of `q` and `u` in the string, not just the first occurrence. Answer to this question includes program + comments that document process and explain your code.\n",
        "\n",
        "Q4: In a previous lab, you were asked to write a function that printed a string a specific number of times. Modify this program to use a `for` loop. Include the function definition as well as a sample function call. Answer to this question includes program + comments that document process and explain your code.\n",
        "- NOTE: Modify the version of this program that accepted specific values as inputs (rather than getting inputs as part of the function definition).\n",
        "\n",
        "# Additional Considerations\n",
        "\n",
        "## `range()`\n",
        "\n",
        "Python's `range()` function allows us to generate a list of integer values. The general syntax:\n",
        "\n",
        "```Python\n",
        "range(START VALUE, END VALUE, STEP INTERVAL)\n",
        "```\n",
        "\n",
        "The default start value for `range()` is `0`, and the default step interval is `1`.\n",
        "\n",
        "So for example, `range(6)` would include the values `[0, 1, 2, 3, 4, 5]`. While `range(1, 6, 2)` would include the values `[1, 3, 5]`.\n",
        "\n",
        "We can use `range()` in combination with `list()` to generate a list of numbers.\n",
        "- `list(range(6))` would generate the list `[0, 1, 2, 3, 4, 5]`\n",
        "\n",
        "We can also use `range()` as part of a `for` loop to iterate over a list of numeric values (without having to create that list manually).\n",
        "\n",
        "For example: \n"
      ],
      "metadata": {
        "id": "Jqldk9LGGxHx"
      }
    },
    {
      "cell_type": "code",
      "source": [
        "# for loop that iterates over values in range\n",
        "for i in range(0, 3):\n",
        " print(i)"
      ],
      "metadata": {
        "id": "VKwYvS1wGyh0"
      },
      "execution_count": null,
      "outputs": []
    },
    {
      "cell_type": "markdown",
      "source": [
        "For more information on Python's `range()` function: \n",
        "- W3Schools, \"[Python Range Function](https://www.w3schools.com/python/ref_func_range.asp)\"\n",
        "- Python documentation, \"[4.3 The range() Function](https://docs.python.org/3/tutorial/controlflow.html#the-range-function)\"\n",
        "\n",
        "## `enumerate()`\n",
        "\n",
        "In a previous lab, we talked about how each item in a list has an index, or a number that indicates its position in the list. We can use the `enumerate()` function to generate a list of pairs containing each item in the list and its index.\n",
        "\n",
        "We can use the `enumerate()` function as part of a `for` loop."
      ],
      "metadata": {
        "id": "fLEEeRSEGzbN"
      }
    },
    {
      "cell_type": "code",
      "source": [
        "# for loop that iterates over list index and values\n",
        "for index, letter in enumerate('abc'):\n",
        " print(index, letter)"
      ],
      "metadata": {
        "colab": {
          "base_uri": "https://localhost:8080/"
        },
        "id": "5mUW-dYUHG3i",
        "outputId": "a2b5a976-afec-4154-8814-f90c9824cba4"
      },
      "execution_count": 4,
      "outputs": [
        {
          "output_type": "stream",
          "name": "stdout",
          "text": [
            "0 a\n",
            "1 b\n",
            "2 c\n"
          ]
        }
      ]
    },
    {
      "cell_type": "markdown",
      "source": [
        "In this last example, `for index, letter` instructed Python to iterate over both components in the `enumerate()` output. `print(index, letter)` instructed Python to print both components for each element.\n",
        "\n",
        "For more information on Python's `enumerate()` function: \n",
        "- W3Schools, \"[Python Enumerate Function](https://www.w3schools.com/python/ref_func_enumerate.asp)\"\n",
        "- Python documentation, \"[enumerate](https://docs.python.org/3/library/functions.html#enumerate)\"\n",
        "\n",
        "## Infinite loop\n",
        "\n",
        "Loops that have no endpoint are called *infinite loops*.\n",
        "\n",
        "For example, given the following program:"
      ],
      "metadata": {
        "id": "st7XJHcnHItf"
      }
    },
    {
      "cell_type": "code",
      "source": [
        "# assign count variable\n",
        "count = 1\n",
        "\n",
        "# while loop\n",
        "while count <= 5: # initial condition\n",
        "   print (\"Python\") # print statement\n",
        "   count = count + 1 # reassign count\n",
        "\n",
        "# final print statement\n",
        "print (\"Done\")"
      ],
      "metadata": {
        "id": "SrgLdeOPHJ6d"
      },
      "execution_count": null,
      "outputs": []
    },
    {
      "cell_type": "markdown",
      "source": [
        "What would happen if we removed `count = count + 1` from the loop? The value of `count` would never change, the initial condition's truth value (`count <= 5`) would never change (because `count` would always equal `1`), and we would have an infinite loop.\n",
        "\n",
        "## Break & Continue\n",
        "\n",
        "We can exit a loop immediately by using the `break` statement. `break` will stop or exit the `while` loop even if the condition is true.\n",
        "\n",
        "For example:"
      ],
      "metadata": {
        "id": "ejhKe7neHLP7"
      }
    },
    {
      "cell_type": "code",
      "source": [
        "# assign i variable \n",
        "i = 1\n",
        "\n",
        "# while loop\n",
        "while i < 6: # initial condition\n",
        "\t\n",
        "\tprint(i) # print statement\n",
        "\n",
        "\tif i == 3: # if statement\n",
        "\t\tbreak # break statement\n",
        "\t\n",
        "\ti += 1 # reassign i"
      ],
      "metadata": {
        "colab": {
          "base_uri": "https://localhost:8080/"
        },
        "id": "exOJDUBaHMd9",
        "outputId": "f18278fa-286d-42ba-9648-18f7cc82f80d"
      },
      "execution_count": 5,
      "outputs": [
        {
          "output_type": "stream",
          "name": "stdout",
          "text": [
            "1\n",
            "2\n",
            "3\n"
          ]
        }
      ]
    },
    {
      "cell_type": "markdown",
      "source": [
        "In this example, the loop breaks as soon as the `i == 3` condition is `True`.\n",
        "\n",
        "We can skip the rest of the body of a loop and move on to the next iteration using `continue`. \n",
        "\n",
        "For example:"
      ],
      "metadata": {
        "id": "1mmn0jhvHPXF"
      }
    },
    {
      "cell_type": "code",
      "source": [
        "# assign the i variable\n",
        "i = 0\n",
        "\n",
        "# while loop\n",
        "while i < 6: # initial condition\n",
        "\n",
        "\ti += 1 # reassign i\n",
        "\t\n",
        "\tif i ==3: # if statement\n",
        "\t\tcontinue # continue statement\n",
        "\t\n",
        "\tprint(i) # print statement"
      ],
      "metadata": {
        "id": "SdoBDy2SHQXa"
      },
      "execution_count": null,
      "outputs": []
    },
    {
      "cell_type": "markdown",
      "source": [
        "In this example, the current iteration of the loop will stop when `i == 3` is true. Unlike with `break`, the loop will not end. Instead when `i == 3` is true, the loop will skip over the final nested `print` statement and return to the beginning of the loop for a new iteration.\n",
        "\n",
        "For more on `break` and `continue`:\n",
        "- W3Schools, \"[Python break Keyword](https://www.w3schools.com/python/ref_keyword_break.asp)\"\n",
        "- W3Schools, \"[Python For Break](https://www.w3schools.com/python/gloss_python_for_break.asp)\"\n",
        "- W3Schools, \"[Python Continue For Loop](https://www.w3schools.com/python/gloss_python_for_continue.asp)\"\n",
        "\n",
        "## Additional Loop Considerations Comprehension Check\n",
        "\n",
        "<table>\n",
        " <tr><td>\n",
        "<img src=\"https://github.com/kwaldenphd/internet/blob/main/images/clipboard.png?raw=true\" alt=\"Clipboard icon\" width=\"50\"/></td>\n",
        "  <td><a href=\"https://docs.google.com/forms/d/e/1FAIpQLSdQCHB6tauQplugunNCqJrVJiZ0W-WqAHAizAft_izi_8X_1g/viewform?usp=sf_link\">Additional Python Loop Considerations Comprehension Check</a></td>\n",
        "  </tr>\n",
        "  </table>"
      ],
      "metadata": {
        "id": "vnLk-a8iHR3r"
      }
    },
    {
      "cell_type": "markdown",
      "source": [
        "# Putting It All Together\n",
        "\n",
        "Q5: Modify the following program to use a while loop instead of a for loop. Answer to this question includes program + comments that document process and explain your code."
      ],
      "metadata": {
        "id": "1TEdP1f4HTHA"
      }
    },
    {
      "cell_type": "code",
      "source": [
        "numbers = [5, 4, 7, 0, 1]\n",
        "count   = 0\n",
        "\n",
        "for number in numbers:\n",
        "  if count in numbers:\n",
        "    print(count)\n",
        "    count += 1\n",
        "  else:\n",
        "    break\n",
        "\n",
        "print(count)"
      ],
      "metadata": {
        "id": "JNFtcnB7HT38"
      },
      "execution_count": null,
      "outputs": []
    },
    {
      "cell_type": "markdown",
      "source": [
        "NOTE: For the following lab notebook questions, write two programs for each- one that uses a `while` loop and one that uses a `for` loop to accomplish the same task. \n",
        "\n",
        "Q6: Write a loop that prints out all numbers from 0 to 10. Answer to this question includes programs with a `while` loop and a `for` loop + comments that document process and explain your code.\n",
        "\n",
        "Q7: Write a program that prints a list of the first nine positive integers and their squares. Answer to this question includes programs with a `while` loop and a `for` loop + comments that document process and explain your code.\n",
        "\n",
        "Your output should look similar to the following:\n",
        "```\n",
        "Number Square\n",
        "1        1\n",
        "2        4\n",
        "3        9\n",
        "4        16\n",
        "5        25\n",
        "6        36\n",
        "7        49\n",
        "8        64\n",
        "9        81\n",
        "```\n",
        "\n",
        "Q8: Write a program that counts from 10 down to 1, and then prints \"Blastoff!\" Answer to this question includes programs with a `while` loop and a `for` loop + comments that document process and explain your code.\n",
        "\n",
        "Your output should similar to the following:\n",
        "```\n",
        "10\n",
        "9\n",
        "8\n",
        "7\n",
        "6\n",
        "5\n",
        "4\n",
        "3\n",
        "2\n",
        "1\n",
        "Blastoff!\n",
        "```\n",
        "\n",
        "Q9: Write a program that asks the user to enter three numbers: a starting value, an ending value, and an increment. Your program should then \"count\" based on these criteria, as shown in the sample output below. Answer to this question includes programs with a `while` loop and a `for` loop + comments that document process and explain your code.\n",
        "\n",
        "```\n",
        "This program counts for you.\n",
        "Enter the starting value: 3\n",
        "Enter the ending value: 13\n",
        "Enter the increment: 2\n",
        "3\n",
        "5\n",
        "7\n",
        "9\n",
        "11\n",
        "13\n",
        "```\n",
        "\n",
        "Q10: Write a program that prints the numbers 1 through 10, except that between 7 and 8 it should print the word \"happy.\" Answer to this question includes programs with a `while` loop and a `for` loop + comments that document process and explain your code.\n",
        "\n",
        "Sample output for this program:\n",
        "```\n",
        "1\n",
        "2\n",
        "3\n",
        "4\n",
        "5\n",
        "6\n",
        "7\n",
        "happy\n",
        "8\n",
        "9\n",
        "10\n",
        "```\n",
        "\n",
        "HINT: How could an `if` statement be helpful to achieve this output? \n"
      ],
      "metadata": {
        "id": "pp43dts4HX5W"
      }
    },
    {
      "cell_type": "markdown",
      "source": [
        "# Lab Notebook Questions\n",
        "\n",
        "Lab notebook template: [Jupyter Notebook, `.ipynb`](https://colab.research.google.com/drive/1duVhsQ-jf6MZpMi0hyc8o4nSG61TJpI0?usp=sharing) (Google Colab, ND users)\n",
        "\n",
        "Q1: Given the following program:"
      ],
      "metadata": {
        "id": "k4GVPeIrHdaY"
      }
    },
    {
      "cell_type": "code",
      "source": [
        "# assign count variable\n",
        "count = 1\n",
        "\n",
        "# while loop\n",
        "while count <= 5: # initial condition\n",
        "   print (\"Python\") # print statement\n",
        "   count = count + 1 # reassign count\n",
        "\n",
        "# final print statement\n",
        "print (\"Done\")"
      ],
      "metadata": {
        "id": "O4wSOQ1IHgMc"
      },
      "execution_count": null,
      "outputs": []
    },
    {
      "cell_type": "markdown",
      "source": [
        "How would you modify the program to print or output the string nine (9) times and also include line numbers as part of the output? Answer to this question includes program + comments that document process and explain your code.\n",
        "\n",
        "For example, your output might look like the following: \n",
        "\n",
        "```Python\n",
        "1 Python\n",
        "2 Python\n",
        "3 Python\n",
        "4 Python\n",
        "5 Python \n",
        "6 Python\n",
        "7 Python\n",
        "8 Python\n",
        "9 Python\n",
        "IS FUN!\n",
        "```\n",
        "\n",
        "Q2: Let's return to the program we modified for Q1. How would you modify your Q1 answer to use a `for` loop instead of a `while` loop? Answer to this question includes program + comments that document process and explain your code.\n"
      ],
      "metadata": {
        "id": "Jc3iNBJ2Hhlr"
      }
    },
    {
      "cell_type": "code",
      "source": [
        "# assign count variable\n",
        "count = 1\n",
        "\n",
        "# while loop\n",
        "while count <= 5: # initial condition\n",
        "   print (\"Python\") # print statement\n",
        "   count = count + 1 # reassign count\n",
        "\n",
        "# final print statement\n",
        "print (\"Done\")"
      ],
      "metadata": {
        "id": "h2whrF86HirI"
      },
      "execution_count": null,
      "outputs": []
    },
    {
      "cell_type": "markdown",
      "source": [
        "As a reminder, your output might look like the following: \n",
        "\n",
        "```Python\n",
        "1 Python\n",
        "2 Python\n",
        "3 Python\n",
        "4 Python\n",
        "5 Python \n",
        "6 Python\n",
        "7 Python\n",
        "8 Python\n",
        "9 Python\n",
        "IS FUN!\n",
        "```\n",
        "\n",
        "Q3: In a previous lab, you were asked to modify the program below to search for the characters `q` and `u` in the string `turquoise`. \n",
        "\n",
        "Program you modified:"
      ],
      "metadata": {
        "id": "74DURm1wHj3k"
      }
    },
    {
      "cell_type": "code",
      "source": [
        "# assign string variable\n",
        "color = \"turquoise\"\n",
        "\n",
        "# get index number of t character\n",
        "index_number = color.index(\"t\")\n",
        "\n",
        "# show index number as part of print statement\n",
        "print (\"The index number for the letter t within the word \" + color + \" is \" + index_number)"
      ],
      "metadata": {
        "id": "GGJqjJm4Hk3U"
      },
      "execution_count": null,
      "outputs": []
    },
    {
      "cell_type": "markdown",
      "source": [
        "Write a program that uses a `for` loop to return all instances of `q` and `u` in the string, not just the first occurrence. Answer to this question includes program + comments that document process and explain your code.\n",
        "\n",
        "Q4: In a previous lab, you were asked to write a function that printed a string a specific number of times. Modify this program to use a `for` loop. Include the function definition as well as a sample function call. Answer to this question includes program + comments that document process and explain your code.\n",
        "- NOTE: Modify the version of this program that accepted specific values as inputs (rather than getting inputs as part of the function definition).\n",
        "\n",
        "Q5: Modify the following program to use a while loop instead of a for loop. Answer to this question includes program + comments that document process and explain your code."
      ],
      "metadata": {
        "id": "aUAo8eyJHnUK"
      }
    },
    {
      "cell_type": "code",
      "source": [
        "numbers = [5, 4, 7, 0, 1]\n",
        "count   = 0\n",
        "\n",
        "for number in numbers:\n",
        "  if count in numbers:\n",
        "    print(count)\n",
        "    count += 1\n",
        "  else:\n",
        "    break\n",
        "\n",
        "print(count)"
      ],
      "metadata": {
        "id": "MV6aMt-YHpqL"
      },
      "execution_count": null,
      "outputs": []
    },
    {
      "cell_type": "markdown",
      "source": [
        "NOTE: For the following lab notebook questions, write two programs for each- one that uses a `while` loop and one that uses a `for` loop to accomplish the same task. \n",
        "\n",
        "Q6: Write a loop that prints out all numbers from 0 to 10. Answer to this question includes programs with a `while` loop and a `for` loop + comments that document process and explain your code.\n",
        "\n",
        "Q7: Write a program that prints a list of the first nine positive integers and their squares. Answer to this question includes programs with a `while` loop and a `for` loop + comments that document process and explain your code.\n",
        "\n",
        "Your output should look similar to the following:\n",
        "```\n",
        "Number Square\n",
        "1        1\n",
        "2        4\n",
        "3        9\n",
        "4        16\n",
        "5        25\n",
        "6        36\n",
        "7        49\n",
        "8        64\n",
        "9        81\n",
        "```\n",
        "\n",
        "Q8: Write a program that counts from 10 down to 1, and then prints \"Blastoff!\" Answer to this question includes programs with a `while` loop and a `for` loop + comments that document process and explain your code.\n",
        "\n",
        "Your output should similar to the following:\n",
        "```\n",
        "10\n",
        "9\n",
        "8\n",
        "7\n",
        "6\n",
        "5\n",
        "4\n",
        "3\n",
        "2\n",
        "1\n",
        "Blastoff!\n",
        "```\n",
        "\n",
        "Q9: Write a program that asks the user to enter three numbers: a starting value, an ending value, and an increment. Your program should then \"count\" based on these criteria, as shown in the sample output below. Answer to this question includes programs with a `while` loop and a `for` loop + comments that document process and explain your code.\n",
        "\n",
        "```Python\n",
        "This program counts for you.\n",
        "Enter the starting value: 3\n",
        "Enter the ending value: 13\n",
        "Enter the increment: 2\n",
        "3\n",
        "5\n",
        "7\n",
        "9\n",
        "11\n",
        "13\n",
        "```\n",
        "\n",
        "Q10: Write a program that prints the numbers 1 through 10, except that between 7 and 8 it should print the word \"happy.\" Answer to this question includes programs with a `while` loop and a `for` loop + comments that document process and explain your code.\n",
        "\n",
        "Sample output for this program:\n",
        "```\n",
        "1\n",
        "2\n",
        "3\n",
        "4\n",
        "5\n",
        "6\n",
        "7\n",
        "happy\n",
        "8\n",
        "9\n",
        "10\n",
        "```\n",
        "\n",
        "HINT: How could an `if` statement be helpful to achieve this output? "
      ],
      "metadata": {
        "id": "8_ZZmvxRHr1a"
      }
    }
  ]
}