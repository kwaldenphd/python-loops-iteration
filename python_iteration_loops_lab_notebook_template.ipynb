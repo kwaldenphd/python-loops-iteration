{
  "nbformat": 4,
  "nbformat_minor": 0,
  "metadata": {
    "colab": {
      "provenance": [],
      "toc_visible": true,
      "authorship_tag": "ABX9TyM65jxH2ku24fZLWCMinhWC",
      "include_colab_link": true
    },
    "kernelspec": {
      "name": "python3",
      "display_name": "Python 3"
    },
    "language_info": {
      "name": "python"
    }
  },
  "cells": [
    {
      "cell_type": "markdown",
      "metadata": {
        "id": "view-in-github",
        "colab_type": "text"
      },
      "source": [
        "<a href=\"https://colab.research.google.com/github/kwaldenphd/python-loops-iteration/blob/main/python_iteration_loops_lab_notebook_template.ipynb\" target=\"_parent\"><img src=\"https://colab.research.google.com/assets/colab-badge.svg\" alt=\"Open In Colab\"/></a>"
      ]
    },
    {
      "cell_type": "markdown",
      "source": [
        "# Loops & Iteration in Python"
      ],
      "metadata": {
        "id": "7MzhNm9Tt6d3"
      }
    },
    {
      "cell_type": "markdown",
      "metadata": {
        "id": "ff876fb9"
      },
      "source": [
        "Student Name: **Enter Your Name Here (Double click to edit)**\n",
        "<br>\n",
        "Net ID: **Enter Your NetID Here (Double click to edit)**\n",
        "<br>"
      ]
    },
    {
      "cell_type": "markdown",
      "source": [
        "## Lab Notebook Questions"
      ],
      "metadata": {
        "id": "tQARbhvayCrm"
      }
    },
    {
      "cell_type": "markdown",
      "source": [
        "### **Q1: How would you modify the following program to print or output the string nine (9) times and also include line numbers as part of the output? Answer to this question includes program + comments that document process and explain your code.**\n",
        "\n",
        "For example, your output might look like the following: \n",
        "\n",
        "```\n",
        "1 Python\n",
        "2 Python\n",
        "3 Python\n",
        "4 Python\n",
        "5 Python \n",
        "6 Python\n",
        "7 Python\n",
        "8 Python\n",
        "9 Python\n",
        "IS FUN!\n",
        "```\n"
      ],
      "metadata": {
        "id": "pgEKP1FtpExo"
      }
    },
    {
      "cell_type": "markdown",
      "metadata": {
        "id": "L0cFnREpis-5"
      },
      "source": [
        "**AnswerQ1**: Your answer here (double click to edit)"
      ]
    },
    {
      "cell_type": "code",
      "source": [
        "# your codes here (double click to edit)\n",
        "\n",
        "# program you're modifying for Q1\n",
        "# assign count variable\n",
        "count = 1\n",
        "\n",
        "# while loop\n",
        "while count <= 5: # initial condition\n",
        "   print (\"Python\") # print statement\n",
        "   count = count + 1 # reassign count\n",
        "\n",
        "# final print statement\n",
        "print (\"Done\")"
      ],
      "metadata": {
        "id": "3ljNdsyxpQRa"
      },
      "execution_count": null,
      "outputs": []
    },
    {
      "cell_type": "markdown",
      "source": [
        "### **Q2: Let's return to the program we modified for Q1. How would you modify your Q1 answer to use a `for` loop instead of a `while` loop? Answer to this question includes program + comments that document process and explain your code.**\n",
        "\n",
        "As a reminder, your output might look like the following: \n",
        "\n",
        "```\n",
        "1 Python\n",
        "2 Python\n",
        "3 Python\n",
        "4 Python\n",
        "5 Python \n",
        "6 Python\n",
        "7 Python\n",
        "8 Python\n",
        "9 Python\n",
        "IS FUN!\n",
        "```"
      ],
      "metadata": {
        "id": "FembQg4kp_M2"
      }
    },
    {
      "cell_type": "markdown",
      "metadata": {
        "id": "v2XYT06SpfJQ"
      },
      "source": [
        "**AnswerQ2**: Your answer here (double click to edit)"
      ]
    },
    {
      "cell_type": "code",
      "source": [
        "# your codes here (double click to edit)\n",
        "\n",
        "# program you're modifying for Q2\n",
        "# assign count variable\n",
        "count = 1\n",
        "\n",
        "# while loop\n",
        "while count <= 5: # initial condition\n",
        "   print (\"Python\") # print statement\n",
        "   count = count + 1 # reassign count\n",
        "\n",
        "# final print statement\n",
        "print (\"Done\")"
      ],
      "metadata": {
        "id": "tY_xjVyoiRLu"
      },
      "execution_count": null,
      "outputs": []
    },
    {
      "cell_type": "markdown",
      "source": [
        "### **Q3: In a previous lab, you were asked to modify the program below to search for the characters `q` and `u` in the string `turquoise`. Write a program that uses a `for` loop to return all instances of `q` and `u` in the string, not just the first occurrence. Answer to this question includes program + comments that document process and explain your code.**"
      ],
      "metadata": {
        "id": "3URjcSZDpbFu"
      }
    },
    {
      "cell_type": "markdown",
      "metadata": {
        "id": "mB-kFikxis_I"
      },
      "source": [
        "**AnswerQ3:** Your answer here (double click to edit)"
      ]
    },
    {
      "cell_type": "code",
      "source": [
        "# your codes here (double click to edit)\n",
        "\n",
        "# program you're modifying fo Q3\n",
        "# assign string variable\n",
        "color = \"turquoise\"\n",
        "\n",
        "# get index number of t character\n",
        "index_number = color.index(\"t\")\n",
        "\n",
        "# show index number as part of print statement\n",
        "print (\"The index number for the letter t within the word \" + color + \" is \" + index_number)\n",
        "```"
      ],
      "metadata": {
        "id": "UEfw6psfpgsa"
      },
      "execution_count": null,
      "outputs": []
    },
    {
      "cell_type": "markdown",
      "source": [
        "### **Q4: In a previous lab, you were asked to write a function that printed a string a specific number of times. Modify this program to use a `for` loop. Include the function definition as well as a sample function call. Answer to this question includes program + comments that document process and explain your code.**\n",
        "- **NOTE: Modify the version of this program that accepted specific values as inputs (rather than getting inputs as part of the function definition).**"
      ],
      "metadata": {
        "id": "NIornfjZpmFy"
      }
    },
    {
      "cell_type": "markdown",
      "metadata": {
        "id": "Cf3iN_D7is_N"
      },
      "source": [
        "**AnswerQ4:** Your answer here (double click to edit)"
      ]
    },
    {
      "cell_type": "code",
      "execution_count": null,
      "metadata": {
        "id": "r_wK6Djjd3TQ"
      },
      "outputs": [],
      "source": [
        "# your codes here (double click to edit)"
      ]
    },
    {
      "cell_type": "markdown",
      "source": [
        "### **Q5: Modify the following program to use a while loop instead of a for loop. Answer to this question includes program + comments that document process and explain your code.**"
      ],
      "metadata": {
        "id": "ymUHiLayptBD"
      }
    },
    {
      "cell_type": "markdown",
      "metadata": {
        "id": "3BAA-_Vyis_X"
      },
      "source": [
        "**AnswerQ5:** Your answer here (double click to edit)"
      ]
    },
    {
      "cell_type": "code",
      "execution_count": 1,
      "metadata": {
        "id": "9lT7urowd9w3"
      },
      "outputs": [],
      "source": [
        "# your codes here (double click to edit)\n",
        "\n",
        "# program you're modifying for Q5\n",
        "numbers = [5, 4, 7, 0, 1]\n",
        "count   = 0\n",
        "\n",
        "for number in numbers:\n",
        "  if count in numbers:\n",
        "    print(count)\n",
        "    count += 1\n",
        "  else:\n",
        "    break\n",
        "\n",
        "print(count)"
      ]
    },
    {
      "cell_type": "markdown",
      "source": [
        "<blockquote>NOTE: For the following lab notebook questions, write two programs for each- one that uses a `while` loop and one that uses a `for` loop to accomplish the same task. </blockquote>"
      ],
      "metadata": {
        "id": "lljlPLgtJSWU"
      }
    },
    {
      "cell_type": "markdown",
      "source": [
        "### **Q6: Write a loop that prints out all numbers from 0 to 10. Answer to this question includes programs with a `while` loop and a `for` loop + comments that document process and explain your code.**"
      ],
      "metadata": {
        "id": "HtUKT1xNqJQy"
      }
    },
    {
      "cell_type": "markdown",
      "metadata": {
        "id": "hcRpdIN_is_b"
      },
      "source": [
        "**AnswerQ6:** Your answer here (double click to edit)"
      ]
    },
    {
      "cell_type": "code",
      "execution_count": null,
      "metadata": {
        "id": "cBAd2bpPqUn2"
      },
      "outputs": [],
      "source": [
        "# your codes here (double click to edit)"
      ]
    },
    {
      "cell_type": "markdown",
      "source": [
        "### **Q7: Write a program that prints a list of the first nine positive integers and their squares. Answer to this question includes programs with a `while` loop and a `for` loop + comments that document process and explain your code.**\n",
        "- NOTE: You are welcome to include code as part of this answer, but a code component is not required.\n",
        "\n",
        "Your output should look similar to the following:\n",
        "```\n",
        "Number Square\n",
        "1        1\n",
        "2        4\n",
        "3        9\n",
        "4        16\n",
        "5        25\n",
        "6        36\n",
        "7        49\n",
        "8        64\n",
        "9        81\n",
        "```"
      ],
      "metadata": {
        "id": "vu71MpmSivh5"
      }
    },
    {
      "cell_type": "markdown",
      "metadata": {
        "id": "tihNYy4uis_c"
      },
      "source": [
        "**AnswerQ7:** Your answer here (double click to edit)"
      ]
    },
    {
      "cell_type": "code",
      "execution_count": null,
      "metadata": {
        "id": "QIfSeDcOi2Hb"
      },
      "outputs": [],
      "source": [
        "# your codes here (double click to edit)"
      ]
    },
    {
      "cell_type": "markdown",
      "source": [
        "### **Q8: Write a program that counts from 10 down to 1, and then prints \"Blastoff!\" Answer to this question includes programs with a `while` loop and a `for` loop + comments that document process and explain your code.**\n",
        "\n",
        "Your output should similar to the following:\n",
        "```\n",
        "10\n",
        "9\n",
        "8\n",
        "7\n",
        "6\n",
        "5\n",
        "4\n",
        "3\n",
        "2\n",
        "1\n",
        "Blastoff!\n",
        "```"
      ],
      "metadata": {
        "id": "XD9Uhw-kJee9"
      }
    },
    {
      "cell_type": "markdown",
      "metadata": {
        "id": "YlLeOQtJJgLq"
      },
      "source": [
        "**AnswerQ8:** Your answer here (double click to edit)"
      ]
    },
    {
      "cell_type": "code",
      "execution_count": null,
      "metadata": {
        "id": "9IoGK6CdJhz6"
      },
      "outputs": [],
      "source": [
        "# your codes here (double click to edit)"
      ]
    },
    {
      "cell_type": "markdown",
      "source": [
        "### **Q9: Write a program that asks the user to enter three numbers: a starting value, an ending value, and an increment. Your program should then \"count\" based on these criteria, as shown in the sample output below. Answer to this question includes programs with a `while` loop and a `for` loop + comments that document process and explain your code.**\n",
        "\n",
        "```\n",
        "This program counts for you.\n",
        "Enter the starting value: 3\n",
        "Enter the ending value: 13\n",
        "Enter the increment: 2\n",
        "3\n",
        "5\n",
        "7\n",
        "9\n",
        "11\n",
        "13\n",
        "```"
      ],
      "metadata": {
        "id": "VgywUA6SJfMR"
      }
    },
    {
      "cell_type": "markdown",
      "metadata": {
        "id": "4Mxe0-d8Jgii"
      },
      "source": [
        "**AnswerQ9:** Your answer here (double click to edit)"
      ]
    },
    {
      "cell_type": "code",
      "execution_count": null,
      "metadata": {
        "id": "BaeQ2u0jJiK_"
      },
      "outputs": [],
      "source": [
        "# your codes here (double click to edit)"
      ]
    },
    {
      "cell_type": "markdown",
      "source": [
        "### **Q10: Write a program that prints the numbers 1 through 10, except that between 7 and 8 it should print the word \"happy.\" Answer to this question includes programs with a `while` loop and a `for` loop + comments that document process and explain your code.**\n",
        "\n",
        "Sample output for this program:\n",
        "```\n",
        "1\n",
        "2\n",
        "3\n",
        "4\n",
        "5\n",
        "6\n",
        "7\n",
        "happy\n",
        "8\n",
        "9\n",
        "10\n",
        "```\n",
        "\n",
        "HINT: How could an `if` statement be helpful to achieve this output? "
      ],
      "metadata": {
        "id": "lJMYtl39JfSi"
      }
    },
    {
      "cell_type": "markdown",
      "metadata": {
        "id": "cQDZpa9VJg0u"
      },
      "source": [
        "**AnswerQ10:** Your answer here (double click to edit)"
      ]
    },
    {
      "cell_type": "code",
      "execution_count": null,
      "metadata": {
        "id": "Y2z1v2pJJid6"
      },
      "outputs": [],
      "source": [
        "# your codes here (double click to edit)"
      ]
    }
  ]
}